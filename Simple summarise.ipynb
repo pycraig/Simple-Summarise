{
 "cells": [
  {
   "cell_type": "code",
   "execution_count": 13,
   "metadata": {},
   "outputs": [],
   "source": [
    "### Load necessary packages\n",
    "\n",
    "import spacy\n",
    "from collections import Counter\n",
    "from string import punctuation\n",
    "from tika import parser"
   ]
  },
  {
   "cell_type": "code",
   "execution_count": 14,
   "metadata": {},
   "outputs": [],
   "source": [
    "### Set desired number of sentences and keywords\n",
    "\n",
    "number_sentences = 3\n",
    "number_keywords = 20"
   ]
  },
  {
   "cell_type": "code",
   "execution_count": null,
   "metadata": {},
   "outputs": [],
   "source": [
    "### Load lang pack - choose package size\n",
    "### en_core_web_lg - c800mb\n",
    "### en_core_web_md - c100mb \n",
    "### en_core_web_sm - c11mb \n",
    "\n",
    "nlp = spacy.load(\"en_core_web_md\")"
   ]
  },
  {
   "cell_type": "code",
   "execution_count": null,
   "metadata": {},
   "outputs": [],
   "source": [
    "### Parse data from files and get text content\n",
    "\n",
    "file = 'file'\n",
    "file_data = parser.from_file(file)\n",
    "text = file_data['content']"
   ]
  },
  {
   "cell_type": "code",
   "execution_count": 10,
   "metadata": {},
   "outputs": [],
   "source": [
    "### Key sentence function\n",
    "\n",
    "def top_sentence(text, limit):\n",
    "    keyword = []\n",
    "    pos_tag = ['PROPN', 'ADJ', 'NOUN', 'VERB']\n",
    "    doc = nlp(text.lower())\n",
    "    for token in doc:\n",
    "        if(token.text in nlp.Defaults.stop_words or token.text in punctuation):\n",
    "            continue\n",
    "        if(token.pos_ in pos_tag):\n",
    "            keyword.append(token.text)\n",
    "    \n",
    "    freq_word = Counter(keyword)\n",
    "    max_freq = Counter(keyword).most_common(1)[0][1]\n",
    "    for w in freq_word:\n",
    "        freq_word[w] = (freq_word[w]/max_freq)\n",
    "        \n",
    "    sent_strength={}\n",
    "    for sent in doc.sents:\n",
    "        for word in sent:\n",
    "            if word.text in freq_word.keys():\n",
    "                if sent in sent_strength.keys():\n",
    "                    sent_strength[sent]+=freq_word[word.text]\n",
    "                else:\n",
    "                    sent_strength[sent]=freq_word[word.text]\n",
    "    \n",
    "    summary = []\n",
    "    \n",
    "    sorted_x = sorted(sent_strength.items(), key=lambda kv: kv[1], reverse=True)\n",
    "    \n",
    "    counter = 0\n",
    "    for i in range(len(sorted_x)):\n",
    "        summary.append(str(sorted_x[i][0]).capitalize())\n",
    "\n",
    "        counter += 1\n",
    "        if(counter >= limit):\n",
    "            break\n",
    "            \n",
    "    return ' '.join(summary)"
   ]
  },
  {
   "cell_type": "code",
   "execution_count": 11,
   "metadata": {},
   "outputs": [],
   "source": [
    "### Keywords function\n",
    "\n",
    "def get_keywords(text):\n",
    "    result = []\n",
    "    pos_tag = ['PROPN', 'ADJ', 'NOUN']\n",
    "    doc = nlp(text.lower()) \n",
    "    for token in doc:\n",
    "        \n",
    "        if(token.text in nlp.Defaults.stop_words or token.text in punctuation):\n",
    "            continue\n",
    "        \n",
    "        if(token.pos_ in pos_tag):\n",
    "            result.append(token.text)\n",
    "                \n",
    "    return result"
   ]
  },
  {
   "cell_type": "code",
   "execution_count": 12,
   "metadata": {},
   "outputs": [
    {
     "name": "stdout",
     "output_type": "stream",
     "text": [
      "˜ government will continue to consider the needs of the \n",
      "\n",
      "maritime sector as part of rail and road infrastructure \n",
      "\n",
      "funding to support the onward transportation of freight \n",
      "\n",
      "and passengers from maritime infrastructure. \n",
      "\n",
      "˜ government will work with the leisure, superyacht and \n",
      "\n",
      "small commercial marine industry to ensure their needs \n",
      "\n",
      "are factored into the strategic growth agenda for the \n",
      "\n",
      "maritime sector, in the context of government’s industrial \n",
      "\n",
      "strategy. \n",
      "\n",
      " ˜ government will support the work of industry, \n",
      "\n",
      "including the bpa, ukmpg and maritime uk \n",
      "\n",
      "as they produce their visions of the future. \n",
      "\n",
      "˜ government will continue to consider the \n",
      "\n",
      "needs of the maritime sector as part of rail \n",
      "\n",
      "and road infrastructure funding to support \n",
      "\n",
      "the onward transportation of freight and \n",
      "\n",
      "passengers from maritime infrastructure. \n",
      "\n",
      " ˜ ensure the uk tonnage tax regime has a \n",
      "\n",
      "training element which continues to support \n",
      "\n",
      "uk maritime workforce ambitions while also \n",
      "\n",
      "supporting growth of the uk tonnage tax \n",
      "\n",
      "regime. \n",
      "\n",
      "˜ raise awareness of the maritime sector in \n",
      "\n",
      "schools by having a single industry body \n",
      "\n",
      "overseeing a more coordinated cross-\n",
      "\n",
      "\n",
      "[('maritime', 389), ('uk', 292), ('government', 213), ('˜', 195), ('sector', 136), ('future', 107), ('industry', 107), ('term', 88), ('years', 88), ('international', 77), ('global', 77), ('shipping', 68), ('new', 59), ('trade', 57), ('ports', 56), ('infrastructure', 47), ('security', 46), ('development', 45), ('technology', 45), ('short', 45)]\n"
     ]
    }
   ],
   "source": [
    "### Print top n sentences and most common n keywords\n",
    "\n",
    "print(top_sentence(text, number_sentences))\n",
    "print(Counter(get_keywords(text)).most_common(number_keywords))"
   ]
  }
 ],
 "metadata": {
  "kernelspec": {
   "display_name": "Python 3",
   "language": "python",
   "name": "python3"
  },
  "language_info": {
   "codemirror_mode": {
    "name": "ipython",
    "version": 3
   },
   "file_extension": ".py",
   "mimetype": "text/x-python",
   "name": "python",
   "nbconvert_exporter": "python",
   "pygments_lexer": "ipython3",
   "version": "3.7.3"
  }
 },
 "nbformat": 4,
 "nbformat_minor": 2
}
